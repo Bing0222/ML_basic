{
 "cells": [
  {
   "cell_type": "code",
   "execution_count": 1,
   "id": "06dd8770",
   "metadata": {
    "ExecuteTime": {
     "end_time": "2023-03-04T16:49:48.711278Z",
     "start_time": "2023-03-04T16:49:46.553828Z"
    }
   },
   "outputs": [],
   "source": [
    "import os\n",
    "import pandas as pd\n",
    "import sklearn\n",
    "import matplotlib as mlp\n",
    "import matplotlib.pyplot as plt\n",
    "import time\n",
    "from sklearn.ensemble import RandomForestRegressor as RFR\n",
    "from sklearn.model_selection import cross_validate, KFold, GridSearchCV"
   ]
  },
  {
   "cell_type": "code",
   "execution_count": 2,
   "id": "13360578",
   "metadata": {
    "ExecuteTime": {
     "end_time": "2023-03-04T16:49:51.375515Z",
     "start_time": "2023-03-04T16:49:51.357728Z"
    }
   },
   "outputs": [],
   "source": [
    "def RSME(cvresult,key):\n",
    "    return (abs(cvresult[key])**0.5).mean()"
   ]
  },
  {
   "cell_type": "code",
   "execution_count": 3,
   "id": "7c95882d",
   "metadata": {
    "ExecuteTime": {
     "end_time": "2023-03-04T16:49:52.057342Z",
     "start_time": "2023-03-04T16:49:52.016410Z"
    }
   },
   "outputs": [],
   "source": [
    "BAST_PATH = \"E:/download/\"\n",
    "filename = \"train_encode.csv\"\n",
    "file = os.path.join(BAST_PATH,filename)\n",
    "\n",
    "df = pd.read_csv(file)"
   ]
  },
  {
   "cell_type": "code",
   "execution_count": 4,
   "id": "6675e7fb",
   "metadata": {
    "ExecuteTime": {
     "end_time": "2023-03-04T16:49:52.554830Z",
     "start_time": "2023-03-04T16:49:52.542957Z"
    }
   },
   "outputs": [],
   "source": [
    "X = df.iloc[:,:-1]\n",
    "y = df.iloc[:,-1]"
   ]
  },
  {
   "cell_type": "code",
   "execution_count": 5,
   "id": "e09c6361",
   "metadata": {
    "ExecuteTime": {
     "end_time": "2023-03-04T16:49:53.254475Z",
     "start_time": "2023-03-04T16:49:53.210845Z"
    }
   },
   "outputs": [
    {
     "data": {
      "text/html": [
       "<div>\n",
       "<style scoped>\n",
       "    .dataframe tbody tr th:only-of-type {\n",
       "        vertical-align: middle;\n",
       "    }\n",
       "\n",
       "    .dataframe tbody tr th {\n",
       "        vertical-align: top;\n",
       "    }\n",
       "\n",
       "    .dataframe thead th {\n",
       "        text-align: right;\n",
       "    }\n",
       "</style>\n",
       "<table border=\"1\" class=\"dataframe\">\n",
       "  <thead>\n",
       "    <tr style=\"text-align: right;\">\n",
       "      <th></th>\n",
       "      <th>Unnamed: 0</th>\n",
       "      <th>Id</th>\n",
       "      <th>住宅类型</th>\n",
       "      <th>住宅区域</th>\n",
       "      <th>街道接触面积(英尺)</th>\n",
       "      <th>住宅面积</th>\n",
       "      <th>街道路面状况</th>\n",
       "      <th>巷子路面状况</th>\n",
       "      <th>住宅形状(大概)</th>\n",
       "      <th>住宅现状</th>\n",
       "      <th>...</th>\n",
       "      <th>半开放式门廊面积</th>\n",
       "      <th>泳池面积</th>\n",
       "      <th>泳池质量</th>\n",
       "      <th>篱笆质量</th>\n",
       "      <th>其他配置</th>\n",
       "      <th>其他配置的价值</th>\n",
       "      <th>销售月份</th>\n",
       "      <th>销售年份</th>\n",
       "      <th>销售类型</th>\n",
       "      <th>销售状态</th>\n",
       "    </tr>\n",
       "  </thead>\n",
       "  <tbody>\n",
       "    <tr>\n",
       "      <th>0</th>\n",
       "      <td>0</td>\n",
       "      <td>0.0</td>\n",
       "      <td>5.0</td>\n",
       "      <td>3.0</td>\n",
       "      <td>36.0</td>\n",
       "      <td>327.0</td>\n",
       "      <td>1.0</td>\n",
       "      <td>0.0</td>\n",
       "      <td>3.0</td>\n",
       "      <td>3.0</td>\n",
       "      <td>...</td>\n",
       "      <td>0.0</td>\n",
       "      <td>0.0</td>\n",
       "      <td>0.0</td>\n",
       "      <td>0.0</td>\n",
       "      <td>0.0</td>\n",
       "      <td>0.0</td>\n",
       "      <td>1.0</td>\n",
       "      <td>2.0</td>\n",
       "      <td>8.0</td>\n",
       "      <td>4.0</td>\n",
       "    </tr>\n",
       "    <tr>\n",
       "      <th>1</th>\n",
       "      <td>1</td>\n",
       "      <td>1.0</td>\n",
       "      <td>0.0</td>\n",
       "      <td>3.0</td>\n",
       "      <td>51.0</td>\n",
       "      <td>498.0</td>\n",
       "      <td>1.0</td>\n",
       "      <td>0.0</td>\n",
       "      <td>3.0</td>\n",
       "      <td>3.0</td>\n",
       "      <td>...</td>\n",
       "      <td>0.0</td>\n",
       "      <td>0.0</td>\n",
       "      <td>0.0</td>\n",
       "      <td>0.0</td>\n",
       "      <td>0.0</td>\n",
       "      <td>0.0</td>\n",
       "      <td>4.0</td>\n",
       "      <td>1.0</td>\n",
       "      <td>8.0</td>\n",
       "      <td>4.0</td>\n",
       "    </tr>\n",
       "    <tr>\n",
       "      <th>2</th>\n",
       "      <td>2</td>\n",
       "      <td>2.0</td>\n",
       "      <td>5.0</td>\n",
       "      <td>3.0</td>\n",
       "      <td>39.0</td>\n",
       "      <td>702.0</td>\n",
       "      <td>1.0</td>\n",
       "      <td>0.0</td>\n",
       "      <td>0.0</td>\n",
       "      <td>3.0</td>\n",
       "      <td>...</td>\n",
       "      <td>0.0</td>\n",
       "      <td>0.0</td>\n",
       "      <td>0.0</td>\n",
       "      <td>0.0</td>\n",
       "      <td>0.0</td>\n",
       "      <td>0.0</td>\n",
       "      <td>8.0</td>\n",
       "      <td>2.0</td>\n",
       "      <td>8.0</td>\n",
       "      <td>4.0</td>\n",
       "    </tr>\n",
       "    <tr>\n",
       "      <th>3</th>\n",
       "      <td>3</td>\n",
       "      <td>3.0</td>\n",
       "      <td>6.0</td>\n",
       "      <td>3.0</td>\n",
       "      <td>31.0</td>\n",
       "      <td>489.0</td>\n",
       "      <td>1.0</td>\n",
       "      <td>0.0</td>\n",
       "      <td>0.0</td>\n",
       "      <td>3.0</td>\n",
       "      <td>...</td>\n",
       "      <td>0.0</td>\n",
       "      <td>0.0</td>\n",
       "      <td>0.0</td>\n",
       "      <td>0.0</td>\n",
       "      <td>0.0</td>\n",
       "      <td>0.0</td>\n",
       "      <td>1.0</td>\n",
       "      <td>0.0</td>\n",
       "      <td>8.0</td>\n",
       "      <td>0.0</td>\n",
       "    </tr>\n",
       "    <tr>\n",
       "      <th>4</th>\n",
       "      <td>4</td>\n",
       "      <td>4.0</td>\n",
       "      <td>5.0</td>\n",
       "      <td>3.0</td>\n",
       "      <td>55.0</td>\n",
       "      <td>925.0</td>\n",
       "      <td>1.0</td>\n",
       "      <td>0.0</td>\n",
       "      <td>0.0</td>\n",
       "      <td>3.0</td>\n",
       "      <td>...</td>\n",
       "      <td>0.0</td>\n",
       "      <td>0.0</td>\n",
       "      <td>0.0</td>\n",
       "      <td>0.0</td>\n",
       "      <td>0.0</td>\n",
       "      <td>0.0</td>\n",
       "      <td>11.0</td>\n",
       "      <td>2.0</td>\n",
       "      <td>8.0</td>\n",
       "      <td>4.0</td>\n",
       "    </tr>\n",
       "  </tbody>\n",
       "</table>\n",
       "<p>5 rows × 81 columns</p>\n",
       "</div>"
      ],
      "text/plain": [
       "   Unnamed: 0   Id  住宅类型  住宅区域  街道接触面积(英尺)   住宅面积  街道路面状况  巷子路面状况  住宅形状(大概)  \\\n",
       "0           0  0.0   5.0   3.0        36.0  327.0     1.0     0.0       3.0   \n",
       "1           1  1.0   0.0   3.0        51.0  498.0     1.0     0.0       3.0   \n",
       "2           2  2.0   5.0   3.0        39.0  702.0     1.0     0.0       0.0   \n",
       "3           3  3.0   6.0   3.0        31.0  489.0     1.0     0.0       0.0   \n",
       "4           4  4.0   5.0   3.0        55.0  925.0     1.0     0.0       0.0   \n",
       "\n",
       "   住宅现状  ...  半开放式门廊面积  泳池面积  泳池质量  篱笆质量  其他配置  其他配置的价值  销售月份  销售年份  销售类型  \\\n",
       "0   3.0  ...       0.0   0.0   0.0   0.0   0.0      0.0   1.0   2.0   8.0   \n",
       "1   3.0  ...       0.0   0.0   0.0   0.0   0.0      0.0   4.0   1.0   8.0   \n",
       "2   3.0  ...       0.0   0.0   0.0   0.0   0.0      0.0   8.0   2.0   8.0   \n",
       "3   3.0  ...       0.0   0.0   0.0   0.0   0.0      0.0   1.0   0.0   8.0   \n",
       "4   3.0  ...       0.0   0.0   0.0   0.0   0.0      0.0  11.0   2.0   8.0   \n",
       "\n",
       "   销售状态  \n",
       "0   4.0  \n",
       "1   4.0  \n",
       "2   4.0  \n",
       "3   0.0  \n",
       "4   4.0  \n",
       "\n",
       "[5 rows x 81 columns]"
      ]
     },
     "execution_count": 5,
     "metadata": {},
     "output_type": "execute_result"
    }
   ],
   "source": [
    "X.head()"
   ]
  },
  {
   "cell_type": "code",
   "execution_count": 6,
   "id": "a364ca75",
   "metadata": {
    "ExecuteTime": {
     "end_time": "2023-03-04T16:49:59.110561Z",
     "start_time": "2023-03-04T16:49:53.831221Z"
    }
   },
   "outputs": [
    {
     "name": "stderr",
     "output_type": "stream",
     "text": [
      "[Parallel(n_jobs=-1)]: Using backend LokyBackend with 8 concurrent workers.\n",
      "[Parallel(n_jobs=-1)]: Done   2 out of   5 | elapsed:    5.1s remaining:    7.7s\n",
      "[Parallel(n_jobs=-1)]: Done   5 out of   5 | elapsed:    5.2s finished\n"
     ]
    }
   ],
   "source": [
    "reg = RFR(random_state=1412)\n",
    "cv = KFold(n_splits=5,shuffle=True,random_state=1412)\n",
    "\n",
    "result_pre_adjusted = cross_validate(reg,X,y,cv=cv,scoring=\"neg_mean_squared_error\",\n",
    "                                    return_train_score=True,\n",
    "                                    verbose=True,\n",
    "                                    n_jobs=-1)"
   ]
  },
  {
   "cell_type": "code",
   "execution_count": 7,
   "id": "5a5addf5",
   "metadata": {
    "ExecuteTime": {
     "end_time": "2023-03-04T16:49:59.999392Z",
     "start_time": "2023-03-04T16:49:59.985167Z"
    }
   },
   "outputs": [
    {
     "data": {
      "text/plain": [
       "11230.897867519101"
      ]
     },
     "execution_count": 7,
     "metadata": {},
     "output_type": "execute_result"
    }
   ],
   "source": [
    "RSME(result_pre_adjusted,\"train_score\")"
   ]
  },
  {
   "cell_type": "code",
   "execution_count": 8,
   "id": "ac22be33",
   "metadata": {
    "ExecuteTime": {
     "end_time": "2023-03-04T16:50:00.727579Z",
     "start_time": "2023-03-04T16:50:00.714341Z"
    }
   },
   "outputs": [
    {
     "data": {
      "text/plain": [
       "30490.094461014414"
      ]
     },
     "execution_count": 8,
     "metadata": {},
     "output_type": "execute_result"
    }
   ],
   "source": [
    "RSME(result_pre_adjusted,\"test_score\")"
   ]
  },
  {
   "cell_type": "code",
   "execution_count": 9,
   "id": "406980a7",
   "metadata": {
    "ExecuteTime": {
     "end_time": "2023-03-04T16:50:01.583166Z",
     "start_time": "2023-03-04T16:50:01.568494Z"
    }
   },
   "outputs": [],
   "source": [
    "param_grid_simple = {\"criterion\": [\"squared_error\",\"poisson\"]\n",
    "                     , 'n_estimators': [*range(20,100,5)]\n",
    "                     , 'max_depth': [*range(10,25,2)]\n",
    "                     , \"max_features\": [\"log2\",\"sqrt\",16,32,64,\"auto\"]\n",
    "                     , \"min_impurity_decrease\": [*np.arange(0,5,10)]\n",
    "                    }"
   ]
  },
  {
   "cell_type": "code",
   "execution_count": 10,
   "id": "1c090e2b",
   "metadata": {
    "ExecuteTime": {
     "end_time": "2023-03-04T16:50:02.255967Z",
     "start_time": "2023-03-04T16:50:02.250279Z"
    }
   },
   "outputs": [],
   "source": [
    "#n_jobs=4/8,verbose=True\n",
    "reg = RFR(random_state=1412,verbose=True,n_jobs=-1)\n",
    "cv = KFold(n_splits=5,shuffle=True,random_state=1412)\n",
    "search = GridSearchCV(estimator=reg\n",
    "                     ,param_grid=param_grid_simple\n",
    "                     ,scoring = \"neg_mean_squared_error\"\n",
    "                     ,verbose = True\n",
    "                     ,cv = cv\n",
    "                     ,n_jobs=-1)"
   ]
  },
  {
   "cell_type": "code",
   "execution_count": 11,
   "id": "76be2fd1",
   "metadata": {
    "ExecuteTime": {
     "end_time": "2023-03-04T16:59:17.896135Z",
     "start_time": "2023-03-04T16:50:03.135313Z"
    }
   },
   "outputs": [
    {
     "name": "stdout",
     "output_type": "stream",
     "text": [
      "Fitting 5 folds for each of 1536 candidates, totalling 7680 fits\n"
     ]
    },
    {
     "name": "stderr",
     "output_type": "stream",
     "text": [
      "C:\\Users\\WenBi\\anaconda3\\lib\\site-packages\\sklearn\\model_selection\\_search.py:922: UserWarning: One or more of the test scores are non-finite: [            nan             nan             nan ... -3.41839031e+09\n",
      " -3.40284841e+09 -3.40005980e+09]\n",
      "  warnings.warn(\n",
      "[Parallel(n_jobs=-1)]: Using backend ThreadingBackend with 8 concurrent workers.\n",
      "[Parallel(n_jobs=-1)]: Done  34 tasks      | elapsed:    0.0s\n"
     ]
    },
    {
     "name": "stdout",
     "output_type": "stream",
     "text": [
      "554.756801366806\n"
     ]
    },
    {
     "name": "stderr",
     "output_type": "stream",
     "text": [
      "[Parallel(n_jobs=-1)]: Done  95 out of  95 | elapsed:    0.1s finished\n"
     ]
    }
   ],
   "source": [
    "start = time.time()\n",
    "search.fit(X,y)\n",
    "print(time.time()-start)"
   ]
  },
  {
   "cell_type": "code",
   "execution_count": 12,
   "id": "ae75810a",
   "metadata": {
    "ExecuteTime": {
     "end_time": "2023-03-04T17:03:07.258822Z",
     "start_time": "2023-03-04T17:03:07.242652Z"
    }
   },
   "outputs": [
    {
     "data": {
      "text/plain": [
       "RandomForestRegressor(criterion='poisson', max_depth=24, max_features='log2',\n",
       "                      min_impurity_decrease=0, n_estimators=95, n_jobs=-1,\n",
       "                      random_state=1412, verbose=True)"
      ]
     },
     "execution_count": 12,
     "metadata": {},
     "output_type": "execute_result"
    }
   ],
   "source": [
    "search.best_estimator_"
   ]
  },
  {
   "cell_type": "code",
   "execution_count": 13,
   "id": "0ceb6506",
   "metadata": {
    "ExecuteTime": {
     "end_time": "2023-03-04T17:04:50.710457Z",
     "start_time": "2023-03-04T17:04:50.692979Z"
    }
   },
   "outputs": [
    {
     "data": {
      "text/plain": [
       "46489.499658639485"
      ]
     },
     "execution_count": 13,
     "metadata": {},
     "output_type": "execute_result"
    }
   ],
   "source": [
    "abs(search.best_score_)**0.5"
   ]
  },
  {
   "cell_type": "code",
   "execution_count": 15,
   "id": "e15cab4b",
   "metadata": {
    "ExecuteTime": {
     "end_time": "2023-03-04T17:05:01.622562Z",
     "start_time": "2023-03-04T17:05:01.615177Z"
    }
   },
   "outputs": [],
   "source": [
    "ad_reg = RFR(n_estimators=95,max_depth=24,random_state=1412)"
   ]
  },
  {
   "cell_type": "code",
   "execution_count": 16,
   "id": "fee30565",
   "metadata": {
    "ExecuteTime": {
     "end_time": "2023-03-04T17:05:50.741500Z",
     "start_time": "2023-03-04T17:05:45.969388Z"
    }
   },
   "outputs": [
    {
     "name": "stderr",
     "output_type": "stream",
     "text": [
      "[Parallel(n_jobs=-1)]: Using backend LokyBackend with 8 concurrent workers.\n",
      "[Parallel(n_jobs=-1)]: Done   2 out of   5 | elapsed:    4.6s remaining:    7.0s\n",
      "[Parallel(n_jobs=-1)]: Done   5 out of   5 | elapsed:    4.7s finished\n"
     ]
    }
   ],
   "source": [
    "cv = KFold(n_splits=5,shuffle=True,random_state=1412)\n",
    "result_post_adjusted = cross_validate(ad_reg,X,y,cv=cv,scoring=\"neg_mean_squared_error\",\n",
    "                                    return_train_score=True,\n",
    "                                    verbose=True,\n",
    "                                    n_jobs=-1)"
   ]
  },
  {
   "cell_type": "code",
   "execution_count": 18,
   "id": "7855a8b6",
   "metadata": {
    "ExecuteTime": {
     "end_time": "2023-03-04T17:06:04.134401Z",
     "start_time": "2023-03-04T17:06:04.119611Z"
    }
   },
   "outputs": [
    {
     "data": {
      "text/plain": [
       "11305.631022138565"
      ]
     },
     "execution_count": 18,
     "metadata": {},
     "output_type": "execute_result"
    }
   ],
   "source": [
    "RSME(result_post_adjusted,\"train_score\")"
   ]
  },
  {
   "cell_type": "code",
   "execution_count": 19,
   "id": "f8e45c4e",
   "metadata": {
    "ExecuteTime": {
     "end_time": "2023-03-04T17:06:11.596659Z",
     "start_time": "2023-03-04T17:06:11.587000Z"
    }
   },
   "outputs": [
    {
     "data": {
      "text/plain": [
       "30579.77709796423"
      ]
     },
     "execution_count": 19,
     "metadata": {},
     "output_type": "execute_result"
    }
   ],
   "source": [
    "RSME(result_post_adjusted,\"test_score\")"
   ]
  },
  {
   "cell_type": "code",
   "execution_count": 20,
   "id": "3c1e676a",
   "metadata": {
    "ExecuteTime": {
     "end_time": "2023-03-04T17:07:03.872174Z",
     "start_time": "2023-03-04T17:07:03.620918Z"
    }
   },
   "outputs": [
    {
     "data": {
      "image/png": "[encoded data removed]",
      "text/plain": [
       "<Figure size 640x480 with 1 Axes>"
      ]
     },
     "metadata": {
      "needs_background": "light"
     },
     "output_type": "display_data"
    }
   ],
   "source": [
    "xaxis = range(1,6)\n",
    "plt.figure(figsize=(8,6),dpi=80)\n",
    "\n",
    "plt.plot(xaxis,abs(result_pre_adjusted[\"train_score\"])**0.5,color=\"green\",label = \"RF_pre_ad_Train\")\n",
    "plt.plot(xaxis,abs(result_pre_adjusted[\"test_score\"])**0.5,color=\"green\",linestyle=\"--\",label = \"RF_pre_ad_Test\")\n",
    "plt.plot(xaxis,abs(result_post_adjusted[\"train_score\"])**0.5,color=\"orange\",label = \"RF_post_ad_Train\")\n",
    "plt.plot(xaxis,abs(result_post_adjusted[\"test_score\"])**0.5,color=\"orange\",linestyle=\"--\",label = \"RF_post_ad_Test\")\n",
    "plt.xticks([1,2,3,4,5])\n",
    "plt.xlabel(\"CVcounts\",fontsize=16)\n",
    "plt.ylabel(\"RMSE\",fontsize=16)\n",
    "plt.legend()\n",
    "plt.show()"
   ]
  },
  {
   "cell_type": "code",
   "execution_count": null,
   "id": "749f36c6",
   "metadata": {},
   "outputs": [],
   "source": []
  }
 ],
 "metadata": {
  "kernelspec": {
   "display_name": "Python 3 (ipykernel)",
   "language": "python",
   "name": "python3"
  },
  "language_info": {
   "codemirror_mode": {
    "name": "ipython",
    "version": 3
   },
   "file_extension": ".py",
   "mimetype": "text/x-python",
   "name": "python",
   "nbconvert_exporter": "python",
   "pygments_lexer": "ipython3",
   "version": "3.9.7"
  },
  "toc": {
   "base_numbering": 1,
   "nav_menu": {},
   "number_sections": true,
   "sideBar": true,
   "skip_h1_title": false,
   "title_cell": "Table of Contents",
   "title_sidebar": "Contents",
   "toc_cell": false,
   "toc_position": {},
   "toc_section_display": true,
   "toc_window_display": false
  },
  "varInspector": {
   "cols": {
    "lenName": 16,
    "lenType": 16,
    "lenVar": 40
   },
   "kernels_config": {
    "python": {
     "delete_cmd_postfix": "",
     "delete_cmd_prefix": "del ",
     "library": "var_list.py",
     "varRefreshCmd": "print(var_dic_list())"
    },
    "r": {
     "delete_cmd_postfix": ") ",
     "delete_cmd_prefix": "rm(",
     "library": "var_list.r",
     "varRefreshCmd": "cat(var_dic_list()) "
    }
   },
   "types_to_exclude": [
    "module",
    "function",
    "builtin_function_or_method",
    "instance",
    "_Feature"
   ],
   "window_display": false
  }
 },
 "nbformat": 4,
 "nbformat_minor": 5
}
